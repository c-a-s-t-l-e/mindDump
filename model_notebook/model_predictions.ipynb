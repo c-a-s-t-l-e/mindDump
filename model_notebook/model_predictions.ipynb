{
 "cells": [
  {
   "cell_type": "code",
   "execution_count": null,
   "id": "698c8a33-d832-4ce4-b91e-317ddf158af6",
   "metadata": {},
   "outputs": [],
   "source": [
    "import polars as pl"
   ]
  },
  {
   "cell_type": "code",
   "execution_count": null,
   "id": "bf184117-4cd5-4ac9-a7d7-0ba5b5884d75",
   "metadata": {},
   "outputs": [],
   "source": [
    "journal_data = pl.read_csv('./journal_entries.csv', separator='|')"
   ]
  },
  {
   "cell_type": "code",
   "execution_count": null,
   "id": "3f768bf6-1401-4aa1-99a6-14da53632133",
   "metadata": {},
   "outputs": [
    {
     "data": {
      "text/html": [
       "<div><style>\n",
       ".dataframe > thead > tr,\n",
       ".dataframe > tbody > tr {\n",
       "  text-align: right;\n",
       "  white-space: pre-wrap;\n",
       "}\n",
       "</style>\n",
       "<small>shape: (5, 8)</small><table border=\"1\" class=\"dataframe\"><thead><tr><th>doc_id</th><th>date</th><th>year</th><th>month</th><th>day</th><th>hour</th><th>sentence</th><th>text</th></tr><tr><td>str</td><td>str</td><td>i64</td><td>i64</td><td>i64</td><td>i64</td><td>i64</td><td>str</td></tr></thead><tbody><tr><td>&quot;2024-12-02_16-13-13-235.txt&quot;</td><td>&quot;2024-12-02&quot;</td><td>2024</td><td>12</td><td>2</td><td>16</td><td>1</td><td>&quot;hdidhshjdjejdjbdb&quot;</td></tr><tr><td>&quot;2024-12-02_19-20-00-554.txt&quot;</td><td>&quot;2024-12-02&quot;</td><td>2024</td><td>12</td><td>2</td><td>19</td><td>1</td><td>&quot;enteyxhdjbdb&quot;</td></tr><tr><td>&quot;2024-12-02_21-18-56-935.txt&quot;</td><td>&quot;2024-12-02&quot;</td><td>2024</td><td>12</td><td>2</td><td>21</td><td>1</td><td>&quot;This is a part of the process&quot;</td></tr><tr><td>&quot;2024-12-02_16-05-40-145.txt&quot;</td><td>&quot;2024-12-02&quot;</td><td>2024</td><td>12</td><td>2</td><td>16</td><td>1</td><td>&quot;This is an entry&quot;</td></tr><tr><td>&quot;2024-12-04_11-23-48-808.txt&quot;</td><td>&quot;2024-12-04&quot;</td><td>2024</td><td>12</td><td>4</td><td>11</td><td>1</td><td>&quot;hello my name is mickey and i …</td></tr></tbody></table></div>"
      ],
      "text/plain": [
       "shape: (5, 8)\n",
       "┌──────────────────────────┬────────────┬──────┬───────┬─────┬──────┬──────────┬───────────────────┐\n",
       "│ doc_id                   ┆ date       ┆ year ┆ month ┆ day ┆ hour ┆ sentence ┆ text              │\n",
       "│ ---                      ┆ ---        ┆ ---  ┆ ---   ┆ --- ┆ ---  ┆ ---      ┆ ---               │\n",
       "│ str                      ┆ str        ┆ i64  ┆ i64   ┆ i64 ┆ i64  ┆ i64      ┆ str               │\n",
       "╞══════════════════════════╪════════════╪══════╪═══════╪═════╪══════╪══════════╪═══════════════════╡\n",
       "│ 2024-12-02_16-13-13-235. ┆ 2024-12-02 ┆ 2024 ┆ 12    ┆ 2   ┆ 16   ┆ 1        ┆ hdidhshjdjejdjbdb │\n",
       "│ txt                      ┆            ┆      ┆       ┆     ┆      ┆          ┆                   │\n",
       "│ 2024-12-02_19-20-00-554. ┆ 2024-12-02 ┆ 2024 ┆ 12    ┆ 2   ┆ 19   ┆ 1        ┆ enteyxhdjbdb      │\n",
       "│ txt                      ┆            ┆      ┆       ┆     ┆      ┆          ┆                   │\n",
       "│ 2024-12-02_21-18-56-935. ┆ 2024-12-02 ┆ 2024 ┆ 12    ┆ 2   ┆ 21   ┆ 1        ┆ This is a part of │\n",
       "│ txt                      ┆            ┆      ┆       ┆     ┆      ┆          ┆ the process       │\n",
       "│ 2024-12-02_16-05-40-145. ┆ 2024-12-02 ┆ 2024 ┆ 12    ┆ 2   ┆ 16   ┆ 1        ┆ This is an entry  │\n",
       "│ txt                      ┆            ┆      ┆       ┆     ┆      ┆          ┆                   │\n",
       "│ 2024-12-04_11-23-48-808. ┆ 2024-12-04 ┆ 2024 ┆ 12    ┆ 4   ┆ 11   ┆ 1        ┆ hello my name is  │\n",
       "│ txt                      ┆            ┆      ┆       ┆     ┆      ┆          ┆ mickey and i …    │\n",
       "└──────────────────────────┴────────────┴──────┴───────┴─────┴──────┴──────────┴───────────────────┘"
      ]
     },
     "execution_count": null,
     "metadata": {},
     "output_type": "execute_result"
    }
   ],
   "source": [
    "journal_data.head()"
   ]
  },
  {
   "cell_type": "code",
   "execution_count": null,
   "id": "d9cf03d0-93ed-4327-9747-e0e92d7130e8",
   "metadata": {},
   "outputs": [],
   "source": [
    "sentences = journal_data['text'].to_list()"
   ]
  },
  {
   "cell_type": "code",
   "execution_count": null,
   "id": "68d35eb9-5e0a-49aa-8d7e-18ad8eb8806c",
   "metadata": {},
   "outputs": [
    {
     "data": {
      "text/plain": [
       "['hdidhshjdjejdjbdb',\n",
       " 'enteyxhdjbdb',\n",
       " 'This is a part of the process',\n",
       " 'This is an entry',\n",
       " 'hello my name is mickey and i am a junjor at byu idaho.',\n",
       " 'i like baseball and am studying data science']"
      ]
     },
     "execution_count": null,
     "metadata": {},
     "output_type": "execute_result"
    }
   ],
   "source": [
    "sentences"
   ]
  },
  {
   "cell_type": "code",
   "execution_count": null,
   "id": "aa674da7-55e3-4d3b-b6ff-a092ada7d84b",
   "metadata": {},
   "outputs": [],
   "source": [
    "from tokenizers import Tokenizer\n",
    "import onnxruntime as ort\n",
    "\n",
    "from os import cpu_count\n",
    "import numpy as np  # only used for the postprocessing sigmoid\n",
    "\n",
    "# sentences = [\"hello world\"]  # for example a batch of 1\n",
    "\n",
    "# labels as (ordered) list - from the go_emotions dataset\n",
    "labels = ['admiration', 'amusement', 'anger', 'annoyance', 'approval', 'caring', 'confusion', 'curiosity', 'desire', 'disappointment', 'disapproval', 'disgust', 'embarrassment', 'excitement', 'fear', 'gratitude', 'grief', 'joy', 'love', 'nervousness', 'optimism', 'pride', 'realization', 'relief', 'remorse', 'sadness', 'surprise', 'neutral']\n",
    "\n",
    "tokenizer = Tokenizer.from_pretrained(\"SamLowe/roberta-base-go_emotions\")\n",
    "\n",
    "# Optional - set pad to only pad to longest in batch, not a fixed length.\n",
    "# (without this, the model will run slower, esp for shorter input strings)\n",
    "params = {**tokenizer.padding, \"length\": None}\n",
    "tokenizer.enable_padding(**params)\n",
    "\n",
    "tokens_obj = tokenizer.encode_batch(sentences)\n",
    "\n",
    "def load_onnx_model(model_filepath):\n",
    "    _options = ort.SessionOptions()\n",
    "    _options.inter_op_num_threads, _options.intra_op_num_threads = cpu_count(), cpu_count()\n",
    "    _providers = [\"CPUExecutionProvider\"]  # could use ort.get_available_providers()\n",
    "    return ort.InferenceSession(path_or_bytes=model_filepath, sess_options=_options, providers=_providers)\n",
    "\n",
    "model = load_onnx_model(\"model_quantized.onnx\")\n",
    "output_names = [model.get_outputs()[0].name]  # E.g. [\"logits\"]\n",
    "\n",
    "input_feed_dict = {\n",
    "  \"input_ids\": [t.ids for t in tokens_obj],\n",
    "  \"attention_mask\": [t.attention_mask for t in tokens_obj]\n",
    "}\n",
    "\n",
    "logits = model.run(output_names=output_names, input_feed=input_feed_dict)[0]\n",
    "# produces a numpy array, one row per input item, one col per label\n",
    "\n",
    "def sigmoid(x):\n",
    "  return 1.0 / (1.0 + np.exp(-x))\n",
    "\n",
    "# Post-processing. Gets the scores per label in range.\n",
    "# Auto done by Transformers' pipeline, but we must do it manually with ORT.\n",
    "model_outputs = sigmoid(logits)"
   ]
  },
  {
   "cell_type": "code",
   "execution_count": null,
   "id": "d5485b76-5092-4553-af90-c93879e6c071",
   "metadata": {},
   "outputs": [
    {
     "name": "stdout",
     "output_type": "stream",
     "text": [
      "neutral with score: 0.96565753\n",
      "neutral with score: 0.96914005\n",
      "neutral with score: 0.9256493\n",
      "neutral with score: 0.96345854\n",
      "neutral with score: 0.95053893\n",
      "love with score: 0.6601694\n"
     ]
    },
    {
     "data": {
      "text/html": [
       "<div><style>\n",
       ".dataframe > thead > tr,\n",
       ".dataframe > tbody > tr {\n",
       "  text-align: right;\n",
       "  white-space: pre-wrap;\n",
       "}\n",
       "</style>\n",
       "<small>shape: (6, 28)</small><table border=\"1\" class=\"dataframe\"><thead><tr><th>admiration</th><th>amusement</th><th>anger</th><th>annoyance</th><th>approval</th><th>caring</th><th>confusion</th><th>curiosity</th><th>desire</th><th>disappointment</th><th>disapproval</th><th>disgust</th><th>embarrassment</th><th>excitement</th><th>fear</th><th>gratitude</th><th>grief</th><th>joy</th><th>love</th><th>nervousness</th><th>optimism</th><th>pride</th><th>realization</th><th>relief</th><th>remorse</th><th>sadness</th><th>surprise</th><th>neutral</th></tr><tr><td>f32</td><td>f32</td><td>f32</td><td>f32</td><td>f32</td><td>f32</td><td>f32</td><td>f32</td><td>f32</td><td>f32</td><td>f32</td><td>f32</td><td>f32</td><td>f32</td><td>f32</td><td>f32</td><td>f32</td><td>f32</td><td>f32</td><td>f32</td><td>f32</td><td>f32</td><td>f32</td><td>f32</td><td>f32</td><td>f32</td><td>f32</td><td>f32</td></tr></thead><tbody><tr><td>0.003308</td><td>0.00291</td><td>0.002896</td><td>0.00657</td><td>0.00994</td><td>0.000931</td><td>0.003478</td><td>0.001826</td><td>0.001181</td><td>0.003667</td><td>0.00462</td><td>0.002436</td><td>0.000888</td><td>0.003222</td><td>0.001872</td><td>0.001216</td><td>0.000543</td><td>0.00296</td><td>0.001578</td><td>0.000491</td><td>0.001664</td><td>0.000415</td><td>0.00517</td><td>0.000402</td><td>0.000411</td><td>0.002639</td><td>0.001372</td><td>0.965658</td></tr><tr><td>0.002994</td><td>0.003008</td><td>0.003131</td><td>0.006328</td><td>0.009553</td><td>0.001157</td><td>0.003454</td><td>0.002184</td><td>0.001506</td><td>0.003482</td><td>0.004399</td><td>0.002541</td><td>0.000929</td><td>0.003374</td><td>0.002067</td><td>0.001211</td><td>0.000606</td><td>0.002916</td><td>0.001662</td><td>0.000509</td><td>0.001842</td><td>0.00042</td><td>0.005113</td><td>0.000404</td><td>0.000472</td><td>0.002871</td><td>0.001424</td><td>0.96914</td></tr><tr><td>0.002502</td><td>0.000854</td><td>0.00082</td><td>0.004011</td><td>0.065212</td><td>0.000778</td><td>0.005131</td><td>0.001327</td><td>0.000709</td><td>0.002242</td><td>0.005724</td><td>0.000877</td><td>0.0003</td><td>0.000876</td><td>0.000533</td><td>0.000786</td><td>0.000193</td><td>0.000947</td><td>0.000993</td><td>0.000207</td><td>0.003607</td><td>0.000248</td><td>0.021289</td><td>0.000359</td><td>0.000252</td><td>0.000902</td><td>0.000579</td><td>0.925649</td></tr><tr><td>0.001976</td><td>0.002021</td><td>0.003018</td><td>0.008913</td><td>0.011928</td><td>0.000828</td><td>0.002931</td><td>0.001989</td><td>0.000873</td><td>0.002908</td><td>0.003517</td><td>0.001853</td><td>0.00068</td><td>0.002035</td><td>0.001442</td><td>0.00084</td><td>0.000362</td><td>0.001517</td><td>0.000676</td><td>0.000363</td><td>0.001671</td><td>0.000272</td><td>0.00654</td><td>0.00029</td><td>0.000278</td><td>0.001885</td><td>0.001193</td><td>0.963459</td></tr><tr><td>0.002784</td><td>0.00279</td><td>0.001587</td><td>0.004307</td><td>0.02293</td><td>0.00112</td><td>0.002148</td><td>0.001433</td><td>0.001131</td><td>0.002151</td><td>0.0019</td><td>0.002066</td><td>0.001111</td><td>0.005526</td><td>0.002157</td><td>0.002238</td><td>0.00059</td><td>0.004232</td><td>0.001569</td><td>0.000555</td><td>0.002145</td><td>0.000731</td><td>0.011486</td><td>0.00074</td><td>0.000627</td><td>0.002163</td><td>0.001958</td><td>0.950539</td></tr><tr><td>0.098563</td><td>0.002603</td><td>0.001339</td><td>0.002768</td><td>0.236382</td><td>0.001338</td><td>0.00351</td><td>0.003609</td><td>0.001745</td><td>0.001577</td><td>0.002995</td><td>0.001066</td><td>0.000318</td><td>0.012894</td><td>0.000473</td><td>0.001049</td><td>0.000186</td><td>0.018918</td><td>0.660169</td><td>0.000275</td><td>0.002965</td><td>0.000777</td><td>0.009687</td><td>0.000687</td><td>0.000365</td><td>0.000815</td><td>0.001429</td><td>0.076964</td></tr></tbody></table></div>"
      ],
      "text/plain": [
       "shape: (6, 28)\n",
       "┌────────────┬───────────┬──────────┬───────────┬───┬──────────┬──────────┬──────────┬──────────┐\n",
       "│ admiration ┆ amusement ┆ anger    ┆ annoyance ┆ … ┆ remorse  ┆ sadness  ┆ surprise ┆ neutral  │\n",
       "│ ---        ┆ ---       ┆ ---      ┆ ---       ┆   ┆ ---      ┆ ---      ┆ ---      ┆ ---      │\n",
       "│ f32        ┆ f32       ┆ f32      ┆ f32       ┆   ┆ f32      ┆ f32      ┆ f32      ┆ f32      │\n",
       "╞════════════╪═══════════╪══════════╪═══════════╪═══╪══════════╪══════════╪══════════╪══════════╡\n",
       "│ 0.003308   ┆ 0.00291   ┆ 0.002896 ┆ 0.00657   ┆ … ┆ 0.000411 ┆ 0.002639 ┆ 0.001372 ┆ 0.965658 │\n",
       "│ 0.002994   ┆ 0.003008  ┆ 0.003131 ┆ 0.006328  ┆ … ┆ 0.000472 ┆ 0.002871 ┆ 0.001424 ┆ 0.96914  │\n",
       "│ 0.002502   ┆ 0.000854  ┆ 0.00082  ┆ 0.004011  ┆ … ┆ 0.000252 ┆ 0.000902 ┆ 0.000579 ┆ 0.925649 │\n",
       "│ 0.001976   ┆ 0.002021  ┆ 0.003018 ┆ 0.008913  ┆ … ┆ 0.000278 ┆ 0.001885 ┆ 0.001193 ┆ 0.963459 │\n",
       "│ 0.002784   ┆ 0.00279   ┆ 0.001587 ┆ 0.004307  ┆ … ┆ 0.000627 ┆ 0.002163 ┆ 0.001958 ┆ 0.950539 │\n",
       "│ 0.098563   ┆ 0.002603  ┆ 0.001339 ┆ 0.002768  ┆ … ┆ 0.000365 ┆ 0.000815 ┆ 0.001429 ┆ 0.076964 │\n",
       "└────────────┴───────────┴──────────┴───────────┴───┴──────────┴──────────┴──────────┴──────────┘"
      ]
     },
     "execution_count": null,
     "metadata": {},
     "output_type": "execute_result"
    }
   ],
   "source": [
    "# create a dataframe \n",
    "df = pl.DataFrame()\n",
    "\n",
    "# for example, just to show the top result per input item\n",
    "for probas in model_outputs:\n",
    "    top_result_index = np.argmax(probas)\n",
    "    print(labels[top_result_index], \"with score:\", probas[top_result_index])\n",
    "    #sorted_indices = np.argsort(probas)[::-1]\n",
    "\n",
    "    # Get the corresponding values from labels and probas lists\n",
    "    #ranked_labels = [labels[i] for i in sorted_indices]\n",
    "    #ranked_probas = [probas[i] for i in sorted_indices]\n",
    "\n",
    "    # Create a dictionary from labels and probas\n",
    "    data = dict(zip(labels, probas))\n",
    "\n",
    "    # Add the data to the DataFrame as a new row\n",
    "    df = df.vstack(pl.DataFrame(data, orient=\"row\"))\n",
    "\n",
    "df"
   ]
  },
  {
   "cell_type": "code",
   "execution_count": null,
   "id": "6ac14750-c526-405a-8c64-fcd56f64bfc9",
   "metadata": {},
   "outputs": [
    {
     "data": {
      "text/html": [
       "<div><style>\n",
       ".dataframe > thead > tr,\n",
       ".dataframe > tbody > tr {\n",
       "  text-align: right;\n",
       "  white-space: pre-wrap;\n",
       "}\n",
       "</style>\n",
       "<small>shape: (6, 36)</small><table border=\"1\" class=\"dataframe\"><thead><tr><th>doc_id</th><th>date</th><th>year</th><th>month</th><th>day</th><th>hour</th><th>sentence</th><th>text</th><th>admiration</th><th>amusement</th><th>anger</th><th>annoyance</th><th>approval</th><th>caring</th><th>confusion</th><th>curiosity</th><th>desire</th><th>disappointment</th><th>disapproval</th><th>disgust</th><th>embarrassment</th><th>excitement</th><th>fear</th><th>gratitude</th><th>grief</th><th>joy</th><th>love</th><th>nervousness</th><th>optimism</th><th>pride</th><th>realization</th><th>relief</th><th>remorse</th><th>sadness</th><th>surprise</th><th>neutral</th></tr><tr><td>str</td><td>str</td><td>i64</td><td>i64</td><td>i64</td><td>i64</td><td>i64</td><td>str</td><td>f32</td><td>f32</td><td>f32</td><td>f32</td><td>f32</td><td>f32</td><td>f32</td><td>f32</td><td>f32</td><td>f32</td><td>f32</td><td>f32</td><td>f32</td><td>f32</td><td>f32</td><td>f32</td><td>f32</td><td>f32</td><td>f32</td><td>f32</td><td>f32</td><td>f32</td><td>f32</td><td>f32</td><td>f32</td><td>f32</td><td>f32</td><td>f32</td></tr></thead><tbody><tr><td>&quot;2024-12-02_16-13-13-235.txt&quot;</td><td>&quot;2024-12-02&quot;</td><td>2024</td><td>12</td><td>2</td><td>16</td><td>1</td><td>&quot;hdidhshjdjejdjbdb&quot;</td><td>0.003308</td><td>0.00291</td><td>0.002896</td><td>0.00657</td><td>0.00994</td><td>0.000931</td><td>0.003478</td><td>0.001826</td><td>0.001181</td><td>0.003667</td><td>0.00462</td><td>0.002436</td><td>0.000888</td><td>0.003222</td><td>0.001872</td><td>0.001216</td><td>0.000543</td><td>0.00296</td><td>0.001578</td><td>0.000491</td><td>0.001664</td><td>0.000415</td><td>0.00517</td><td>0.000402</td><td>0.000411</td><td>0.002639</td><td>0.001372</td><td>0.965658</td></tr><tr><td>&quot;2024-12-02_19-20-00-554.txt&quot;</td><td>&quot;2024-12-02&quot;</td><td>2024</td><td>12</td><td>2</td><td>19</td><td>1</td><td>&quot;enteyxhdjbdb&quot;</td><td>0.002994</td><td>0.003008</td><td>0.003131</td><td>0.006328</td><td>0.009553</td><td>0.001157</td><td>0.003454</td><td>0.002184</td><td>0.001506</td><td>0.003482</td><td>0.004399</td><td>0.002541</td><td>0.000929</td><td>0.003374</td><td>0.002067</td><td>0.001211</td><td>0.000606</td><td>0.002916</td><td>0.001662</td><td>0.000509</td><td>0.001842</td><td>0.00042</td><td>0.005113</td><td>0.000404</td><td>0.000472</td><td>0.002871</td><td>0.001424</td><td>0.96914</td></tr><tr><td>&quot;2024-12-02_21-18-56-935.txt&quot;</td><td>&quot;2024-12-02&quot;</td><td>2024</td><td>12</td><td>2</td><td>21</td><td>1</td><td>&quot;This is a part of the process&quot;</td><td>0.002502</td><td>0.000854</td><td>0.00082</td><td>0.004011</td><td>0.065212</td><td>0.000778</td><td>0.005131</td><td>0.001327</td><td>0.000709</td><td>0.002242</td><td>0.005724</td><td>0.000877</td><td>0.0003</td><td>0.000876</td><td>0.000533</td><td>0.000786</td><td>0.000193</td><td>0.000947</td><td>0.000993</td><td>0.000207</td><td>0.003607</td><td>0.000248</td><td>0.021289</td><td>0.000359</td><td>0.000252</td><td>0.000902</td><td>0.000579</td><td>0.925649</td></tr><tr><td>&quot;2024-12-02_16-05-40-145.txt&quot;</td><td>&quot;2024-12-02&quot;</td><td>2024</td><td>12</td><td>2</td><td>16</td><td>1</td><td>&quot;This is an entry&quot;</td><td>0.001976</td><td>0.002021</td><td>0.003018</td><td>0.008913</td><td>0.011928</td><td>0.000828</td><td>0.002931</td><td>0.001989</td><td>0.000873</td><td>0.002908</td><td>0.003517</td><td>0.001853</td><td>0.00068</td><td>0.002035</td><td>0.001442</td><td>0.00084</td><td>0.000362</td><td>0.001517</td><td>0.000676</td><td>0.000363</td><td>0.001671</td><td>0.000272</td><td>0.00654</td><td>0.00029</td><td>0.000278</td><td>0.001885</td><td>0.001193</td><td>0.963459</td></tr><tr><td>&quot;2024-12-04_11-23-48-808.txt&quot;</td><td>&quot;2024-12-04&quot;</td><td>2024</td><td>12</td><td>4</td><td>11</td><td>1</td><td>&quot;hello my name is mickey and i …</td><td>0.002784</td><td>0.00279</td><td>0.001587</td><td>0.004307</td><td>0.02293</td><td>0.00112</td><td>0.002148</td><td>0.001433</td><td>0.001131</td><td>0.002151</td><td>0.0019</td><td>0.002066</td><td>0.001111</td><td>0.005526</td><td>0.002157</td><td>0.002238</td><td>0.00059</td><td>0.004232</td><td>0.001569</td><td>0.000555</td><td>0.002145</td><td>0.000731</td><td>0.011486</td><td>0.00074</td><td>0.000627</td><td>0.002163</td><td>0.001958</td><td>0.950539</td></tr><tr><td>&quot;2024-12-04_11-23-48-808.txt&quot;</td><td>&quot;2024-12-04&quot;</td><td>2024</td><td>12</td><td>4</td><td>11</td><td>2</td><td>&quot;i like baseball and am studyin…</td><td>0.098563</td><td>0.002603</td><td>0.001339</td><td>0.002768</td><td>0.236382</td><td>0.001338</td><td>0.00351</td><td>0.003609</td><td>0.001745</td><td>0.001577</td><td>0.002995</td><td>0.001066</td><td>0.000318</td><td>0.012894</td><td>0.000473</td><td>0.001049</td><td>0.000186</td><td>0.018918</td><td>0.660169</td><td>0.000275</td><td>0.002965</td><td>0.000777</td><td>0.009687</td><td>0.000687</td><td>0.000365</td><td>0.000815</td><td>0.001429</td><td>0.076964</td></tr></tbody></table></div>"
      ],
      "text/plain": [
       "shape: (6, 36)\n",
       "┌──────────────────────┬────────────┬──────┬───────┬───┬──────────┬──────────┬──────────┬──────────┐\n",
       "│ doc_id               ┆ date       ┆ year ┆ month ┆ … ┆ remorse  ┆ sadness  ┆ surprise ┆ neutral  │\n",
       "│ ---                  ┆ ---        ┆ ---  ┆ ---   ┆   ┆ ---      ┆ ---      ┆ ---      ┆ ---      │\n",
       "│ str                  ┆ str        ┆ i64  ┆ i64   ┆   ┆ f32      ┆ f32      ┆ f32      ┆ f32      │\n",
       "╞══════════════════════╪════════════╪══════╪═══════╪═══╪══════════╪══════════╪══════════╪══════════╡\n",
       "│ 2024-12-02_16-13-13- ┆ 2024-12-02 ┆ 2024 ┆ 12    ┆ … ┆ 0.000411 ┆ 0.002639 ┆ 0.001372 ┆ 0.965658 │\n",
       "│ 235.txt              ┆            ┆      ┆       ┆   ┆          ┆          ┆          ┆          │\n",
       "│ 2024-12-02_19-20-00- ┆ 2024-12-02 ┆ 2024 ┆ 12    ┆ … ┆ 0.000472 ┆ 0.002871 ┆ 0.001424 ┆ 0.96914  │\n",
       "│ 554.txt              ┆            ┆      ┆       ┆   ┆          ┆          ┆          ┆          │\n",
       "│ 2024-12-02_21-18-56- ┆ 2024-12-02 ┆ 2024 ┆ 12    ┆ … ┆ 0.000252 ┆ 0.000902 ┆ 0.000579 ┆ 0.925649 │\n",
       "│ 935.txt              ┆            ┆      ┆       ┆   ┆          ┆          ┆          ┆          │\n",
       "│ 2024-12-02_16-05-40- ┆ 2024-12-02 ┆ 2024 ┆ 12    ┆ … ┆ 0.000278 ┆ 0.001885 ┆ 0.001193 ┆ 0.963459 │\n",
       "│ 145.txt              ┆            ┆      ┆       ┆   ┆          ┆          ┆          ┆          │\n",
       "│ 2024-12-04_11-23-48- ┆ 2024-12-04 ┆ 2024 ┆ 12    ┆ … ┆ 0.000627 ┆ 0.002163 ┆ 0.001958 ┆ 0.950539 │\n",
       "│ 808.txt              ┆            ┆      ┆       ┆   ┆          ┆          ┆          ┆          │\n",
       "│ 2024-12-04_11-23-48- ┆ 2024-12-04 ┆ 2024 ┆ 12    ┆ … ┆ 0.000365 ┆ 0.000815 ┆ 0.001429 ┆ 0.076964 │\n",
       "│ 808.txt              ┆            ┆      ┆       ┆   ┆          ┆          ┆          ┆          │\n",
       "└──────────────────────┴────────────┴──────┴───────┴───┴──────────┴──────────┴──────────┴──────────┘"
      ]
     },
     "execution_count": null,
     "metadata": {},
     "output_type": "execute_result"
    }
   ],
   "source": [
    "df_combined = pl.concat([journal_data, df], how=\"horizontal\")\n",
    "\n",
    "df_combined"
   ]
  },
  {
   "cell_type": "code",
   "execution_count": null,
   "id": "d534f53a-fc68-4f4e-ae3b-3671f2c05137",
   "metadata": {},
   "outputs": [],
   "source": [
    "df_combined.write_csv('journal_emotions.csv', include_bom=False, separator='|')"
   ]
  }
 ],
 "metadata": {
  "kernelspec": {
   "display_name": "journal_parser",
   "language": "python",
   "name": "journal_parser"
  }
 },
 "nbformat": 4,
 "nbformat_minor": 5
}
