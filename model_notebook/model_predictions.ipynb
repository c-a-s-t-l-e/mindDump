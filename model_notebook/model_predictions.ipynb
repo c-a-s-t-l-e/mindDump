{
 "cells": [
  {
   "cell_type": "code",
   "execution_count": null,
   "id": "698c8a33-d832-4ce4-b91e-317ddf158af6",
   "metadata": {},
   "outputs": [],
   "source": [
    "import polars as pl"
   ]
  },
  {
   "cell_type": "code",
   "execution_count": null,
   "id": "bf184117-4cd5-4ac9-a7d7-0ba5b5884d75",
   "metadata": {},
   "outputs": [],
   "source": [
    "journal_data = pl.read_csv('./journal_entries.csv', separator='|')"
   ]
  },
  {
   "cell_type": "code",
   "execution_count": null,
   "id": "3f768bf6-1401-4aa1-99a6-14da53632133",
   "metadata": {},
   "outputs": [
    {
     "data": {
      "text/html": [
       "<div><style>\n",
       ".dataframe > thead > tr,\n",
       ".dataframe > tbody > tr {\n",
       "  text-align: right;\n",
       "  white-space: pre-wrap;\n",
       "}\n",
       "</style>\n",
       "<small>shape: (5, 8)</small><table border=\"1\" class=\"dataframe\"><thead><tr><th>doc_id</th><th>date</th><th>year</th><th>month</th><th>day</th><th>hour</th><th>sentence</th><th>text</th></tr><tr><td>str</td><td>str</td><td>i64</td><td>i64</td><td>i64</td><td>i64</td><td>i64</td><td>str</td></tr></thead><tbody><tr><td>&quot;2024-12-02_16-13-13-235.txt&quot;</td><td>&quot;2024-12-02&quot;</td><td>2024</td><td>12</td><td>2</td><td>16</td><td>1</td><td>&quot;Why do you think that could be…</td></tr><tr><td>&quot;2024-12-02_16-13-13-235.txt&quot;</td><td>&quot;2024-12-02&quot;</td><td>2024</td><td>12</td><td>2</td><td>16</td><td>2</td><td>&quot;There are plenty of other reas…</td></tr><tr><td>&quot;2024-12-02_16-13-13-235.txt&quot;</td><td>&quot;2024-12-02&quot;</td><td>2024</td><td>12</td><td>2</td><td>16</td><td>3</td><td>&quot;Today has been such a great da…</td></tr><tr><td>&quot;2024-12-02_19-20-00-554.txt&quot;</td><td>&quot;2024-12-02&quot;</td><td>2024</td><td>12</td><td>2</td><td>19</td><td>1</td><td>&quot;I guess I&#x27;ve got to break the …</td></tr><tr><td>&quot;2024-12-02_19-20-00-554.txt&quot;</td><td>&quot;2024-12-02&quot;</td><td>2024</td><td>12</td><td>2</td><td>19</td><td>2</td><td>&quot;Somebody hit my truck on it&#x27;s …</td></tr></tbody></table></div>"
      ],
      "text/plain": [
       "shape: (5, 8)\n",
       "┌───────────────────────┬────────────┬──────┬───────┬─────┬──────┬──────────┬──────────────────────┐\n",
       "│ doc_id                ┆ date       ┆ year ┆ month ┆ day ┆ hour ┆ sentence ┆ text                 │\n",
       "│ ---                   ┆ ---        ┆ ---  ┆ ---   ┆ --- ┆ ---  ┆ ---      ┆ ---                  │\n",
       "│ str                   ┆ str        ┆ i64  ┆ i64   ┆ i64 ┆ i64  ┆ i64      ┆ str                  │\n",
       "╞═══════════════════════╪════════════╪══════╪═══════╪═════╪══════╪══════════╪══════════════════════╡\n",
       "│ 2024-12-02_16-13-13-2 ┆ 2024-12-02 ┆ 2024 ┆ 12    ┆ 2   ┆ 16   ┆ 1        ┆ Why do you think     │\n",
       "│ 35.txt                ┆            ┆      ┆       ┆     ┆      ┆          ┆ that could be…       │\n",
       "│ 2024-12-02_16-13-13-2 ┆ 2024-12-02 ┆ 2024 ┆ 12    ┆ 2   ┆ 16   ┆ 2        ┆ There are plenty of  │\n",
       "│ 35.txt                ┆            ┆      ┆       ┆     ┆      ┆          ┆ other reas…          │\n",
       "│ 2024-12-02_16-13-13-2 ┆ 2024-12-02 ┆ 2024 ┆ 12    ┆ 2   ┆ 16   ┆ 3        ┆ Today has been such  │\n",
       "│ 35.txt                ┆            ┆      ┆       ┆     ┆      ┆          ┆ a great da…          │\n",
       "│ 2024-12-02_19-20-00-5 ┆ 2024-12-02 ┆ 2024 ┆ 12    ┆ 2   ┆ 19   ┆ 1        ┆ I guess I've got to  │\n",
       "│ 54.txt                ┆            ┆      ┆       ┆     ┆      ┆          ┆ break the …          │\n",
       "│ 2024-12-02_19-20-00-5 ┆ 2024-12-02 ┆ 2024 ┆ 12    ┆ 2   ┆ 19   ┆ 2        ┆ Somebody hit my      │\n",
       "│ 54.txt                ┆            ┆      ┆       ┆     ┆      ┆          ┆ truck on it's …      │\n",
       "└───────────────────────┴────────────┴──────┴───────┴─────┴──────┴──────────┴──────────────────────┘"
      ]
     },
     "execution_count": null,
     "metadata": {},
     "output_type": "execute_result"
    }
   ],
   "source": [
    "journal_data.head()"
   ]
  },
  {
   "cell_type": "code",
   "execution_count": null,
   "id": "d9cf03d0-93ed-4327-9747-e0e92d7130e8",
   "metadata": {},
   "outputs": [],
   "source": [
    "sentences = journal_data['text'].to_list()"
   ]
  },
  {
   "cell_type": "code",
   "execution_count": null,
   "id": "68d35eb9-5e0a-49aa-8d7e-18ad8eb8806c",
   "metadata": {},
   "outputs": [
    {
     "data": {
      "text/plain": [
       "['Why do you think that could be the case?',\n",
       " 'There are plenty of other reasons why probably.',\n",
       " \"Today has been such a great day so far that there's really nothing on my mind but success, sweet, sweet success and nothing else.\",\n",
       " \"I guess I've got to break the bad news to you all...\",\n",
       " \"Somebody hit my truck on it's left side panel while I was eating a delicious chimichanga from Walmart.\",\n",
       " \"I've never cried more over a bnuch of beans and rice then when I saw the metal get dented like a foldable crepe.\",\n",
       " 'This is a part of the process.',\n",
       " 'What more could there be really?',\n",
       " \"I like how there's so much to see and do!\",\n",
       " 'What a brand new world that makes you really start to think about things really?',\n",
       " \"But aren't you worried?\",\n",
       " 'No, not really.',\n",
       " \"I've thought about a lot things recently like if there's sense of time space beyond comprehension.\",\n",
       " 'What if there really were other types of reality in the great cosmos?',\n",
       " 'How could I be so blind as to not see any of it!',\n",
       " 'Where is the answer!',\n",
       " 'Where?',\n",
       " \"I don't know exactly, but it must be out there.\",\n",
       " 'hello my name is johnny and i am a junjor at byu idaho.',\n",
       " 'i like baseball and am studying data science.',\n",
       " 'I have six cats and all of them do not like me, but that is ok.',\n",
       " 'I give them tuna every night while I read them a bedtime story.',\n",
       " 'I then tell them how much I appreciate each of them individually.',\n",
       " 'I first pet each of their heads.',\n",
       " 'I then give them a fist-bump.']"
      ]
     },
     "execution_count": null,
     "metadata": {},
     "output_type": "execute_result"
    }
   ],
   "source": [
    "sentences"
   ]
  },
  {
   "cell_type": "code",
   "execution_count": null,
   "id": "aa674da7-55e3-4d3b-b6ff-a092ada7d84b",
   "metadata": {},
   "outputs": [],
   "source": [
    "from tokenizers import Tokenizer\n",
    "import onnxruntime as ort\n",
    "\n",
    "from os import cpu_count\n",
    "import numpy as np  # only used for the postprocessing sigmoid\n",
    "\n",
    "# sentences = [\"hello world\"]  # for example a batch of 1\n",
    "\n",
    "# labels as (ordered) list - from the go_emotions dataset\n",
    "labels = ['admiration', 'amusement', 'anger', 'annoyance', 'approval', 'caring', 'confusion', 'curiosity', 'desire', 'disappointment', 'disapproval', 'disgust', 'embarrassment', 'excitement', 'fear', 'gratitude', 'grief', 'joy', 'love', 'nervousness', 'optimism', 'pride', 'realization', 'relief', 'remorse', 'sadness', 'surprise', 'neutral']\n",
    "\n",
    "tokenizer = Tokenizer.from_pretrained(\"SamLowe/roberta-base-go_emotions\")\n",
    "\n",
    "# Optional - set pad to only pad to longest in batch, not a fixed length.\n",
    "# (without this, the model will run slower, esp for shorter input strings)\n",
    "params = {**tokenizer.padding, \"length\": None}\n",
    "tokenizer.enable_padding(**params)\n",
    "\n",
    "tokens_obj = tokenizer.encode_batch(sentences)\n",
    "\n",
    "def load_onnx_model(model_filepath):\n",
    "    _options = ort.SessionOptions()\n",
    "    _options.inter_op_num_threads, _options.intra_op_num_threads = cpu_count(), cpu_count()\n",
    "    _providers = [\"CPUExecutionProvider\"]  # could use ort.get_available_providers()\n",
    "    return ort.InferenceSession(path_or_bytes=model_filepath, sess_options=_options, providers=_providers)\n",
    "\n",
    "model = load_onnx_model(\"model_quantized.onnx\")\n",
    "output_names = [model.get_outputs()[0].name]  # E.g. [\"logits\"]\n",
    "\n",
    "input_feed_dict = {\n",
    "  \"input_ids\": [t.ids for t in tokens_obj],\n",
    "  \"attention_mask\": [t.attention_mask for t in tokens_obj]\n",
    "}\n",
    "\n",
    "logits = model.run(output_names=output_names, input_feed=input_feed_dict)[0]\n",
    "# produces a numpy array, one row per input item, one col per label\n",
    "\n",
    "def sigmoid(x):\n",
    "  return 1.0 / (1.0 + np.exp(-x))\n",
    "\n",
    "# Post-processing. Gets the scores per label in range.\n",
    "# Auto done by Transformers' pipeline, but we must do it manually with ORT.\n",
    "model_outputs = sigmoid(logits)"
   ]
  },
  {
   "cell_type": "code",
   "execution_count": null,
   "id": "d5485b76-5092-4553-af90-c93879e6c071",
   "metadata": {},
   "outputs": [
    {
     "name": "stdout",
     "output_type": "stream",
     "text": [
      "curiosity with score: 0.62250173\n",
      "neutral with score: 0.72867113\n",
      "joy with score: 0.61382854\n",
      "sadness with score: 0.6804175\n",
      "neutral with score: 0.6172108\n",
      "sadness with score: 0.53383315\n",
      "neutral with score: 0.8897027\n",
      "curiosity with score: 0.57709944\n",
      "love with score: 0.79359126\n",
      "curiosity with score: 0.6504733\n",
      "curiosity with score: 0.5080614\n",
      "disapproval with score: 0.8499824\n",
      "neutral with score: 0.4668462\n",
      "curiosity with score: 0.7443946\n",
      "neutral with score: 0.24542819\n",
      "curiosity with score: 0.45311204\n",
      "neutral with score: 0.57190543\n",
      "confusion with score: 0.87994885\n",
      "neutral with score: 0.9510493\n",
      "love with score: 0.74739504\n",
      "neutral with score: 0.35738194\n",
      "neutral with score: 0.9375534\n",
      "admiration with score: 0.78257483\n",
      "neutral with score: 0.7206731\n",
      "neutral with score: 0.9605323\n"
     ]
    },
    {
     "data": {
      "text/html": [
       "<div><style>\n",
       ".dataframe > thead > tr,\n",
       ".dataframe > tbody > tr {\n",
       "  text-align: right;\n",
       "  white-space: pre-wrap;\n",
       "}\n",
       "</style>\n",
       "<small>shape: (25, 28)</small><table border=\"1\" class=\"dataframe\"><thead><tr><th>admiration</th><th>amusement</th><th>anger</th><th>annoyance</th><th>approval</th><th>caring</th><th>confusion</th><th>curiosity</th><th>desire</th><th>disappointment</th><th>disapproval</th><th>disgust</th><th>embarrassment</th><th>excitement</th><th>fear</th><th>gratitude</th><th>grief</th><th>joy</th><th>love</th><th>nervousness</th><th>optimism</th><th>pride</th><th>realization</th><th>relief</th><th>remorse</th><th>sadness</th><th>surprise</th><th>neutral</th></tr><tr><td>f32</td><td>f32</td><td>f32</td><td>f32</td><td>f32</td><td>f32</td><td>f32</td><td>f32</td><td>f32</td><td>f32</td><td>f32</td><td>f32</td><td>f32</td><td>f32</td><td>f32</td><td>f32</td><td>f32</td><td>f32</td><td>f32</td><td>f32</td><td>f32</td><td>f32</td><td>f32</td><td>f32</td><td>f32</td><td>f32</td><td>f32</td><td>f32</td></tr></thead><tbody><tr><td>0.00197</td><td>0.001594</td><td>0.001824</td><td>0.007722</td><td>0.008916</td><td>0.002216</td><td>0.367905</td><td>0.622502</td><td>0.001434</td><td>0.00198</td><td>0.005644</td><td>0.001139</td><td>0.000597</td><td>0.001651</td><td>0.001646</td><td>0.001146</td><td>0.000255</td><td>0.000808</td><td>0.001471</td><td>0.00062</td><td>0.005584</td><td>0.000056</td><td>0.005514</td><td>0.000169</td><td>0.000457</td><td>0.001115</td><td>0.006525</td><td>0.26142</td></tr><tr><td>0.002054</td><td>0.002355</td><td>0.000723</td><td>0.004981</td><td>0.082778</td><td>0.001035</td><td>0.202407</td><td>0.007913</td><td>0.001052</td><td>0.002273</td><td>0.012508</td><td>0.001054</td><td>0.00048</td><td>0.000992</td><td>0.000724</td><td>0.001804</td><td>0.000249</td><td>0.0014</td><td>0.00115</td><td>0.000503</td><td>0.009656</td><td>0.00022</td><td>0.058477</td><td>0.000501</td><td>0.000416</td><td>0.000825</td><td>0.001471</td><td>0.728671</td></tr><tr><td>0.514721</td><td>0.005169</td><td>0.001948</td><td>0.008511</td><td>0.084323</td><td>0.008455</td><td>0.001237</td><td>0.001136</td><td>0.006148</td><td>0.002621</td><td>0.00525</td><td>0.000772</td><td>0.000513</td><td>0.092634</td><td>0.000587</td><td>0.05875</td><td>0.001005</td><td>0.613829</td><td>0.011455</td><td>0.000974</td><td>0.012538</td><td>0.026969</td><td>0.008357</td><td>0.026981</td><td>0.000334</td><td>0.001619</td><td>0.002806</td><td>0.018327</td></tr><tr><td>0.002316</td><td>0.00286</td><td>0.001906</td><td>0.010791</td><td>0.01419</td><td>0.056138</td><td>0.003089</td><td>0.004331</td><td>0.008424</td><td>0.129481</td><td>0.008022</td><td>0.002548</td><td>0.001987</td><td>0.003082</td><td>0.011483</td><td>0.001876</td><td>0.012272</td><td>0.006476</td><td>0.004132</td><td>0.03707</td><td>0.012924</td><td>0.000599</td><td>0.011076</td><td>0.006326</td><td>0.020937</td><td>0.680417</td><td>0.00191</td><td>0.069102</td></tr><tr><td>0.037635</td><td>0.004592</td><td>0.002067</td><td>0.012246</td><td>0.035002</td><td>0.002152</td><td>0.00055</td><td>0.000456</td><td>0.003131</td><td>0.009742</td><td>0.002254</td><td>0.005116</td><td>0.002089</td><td>0.027842</td><td>0.007848</td><td>0.000692</td><td>0.001991</td><td>0.079268</td><td>0.007747</td><td>0.002629</td><td>0.002861</td><td>0.00878</td><td>0.01885</td><td>0.006296</td><td>0.000577</td><td>0.008555</td><td>0.004123</td><td>0.617211</td></tr><tr><td>&hellip;</td><td>&hellip;</td><td>&hellip;</td><td>&hellip;</td><td>&hellip;</td><td>&hellip;</td><td>&hellip;</td><td>&hellip;</td><td>&hellip;</td><td>&hellip;</td><td>&hellip;</td><td>&hellip;</td><td>&hellip;</td><td>&hellip;</td><td>&hellip;</td><td>&hellip;</td><td>&hellip;</td><td>&hellip;</td><td>&hellip;</td><td>&hellip;</td><td>&hellip;</td><td>&hellip;</td><td>&hellip;</td><td>&hellip;</td><td>&hellip;</td><td>&hellip;</td><td>&hellip;</td><td>&hellip;</td></tr><tr><td>0.001832</td><td>0.000605</td><td>0.008093</td><td>0.034745</td><td>0.276817</td><td>0.039473</td><td>0.003499</td><td>0.001454</td><td>0.005761</td><td>0.036792</td><td>0.086785</td><td>0.005253</td><td>0.001289</td><td>0.000467</td><td>0.002077</td><td>0.000717</td><td>0.002336</td><td>0.002802</td><td>0.02802</td><td>0.002852</td><td>0.003881</td><td>0.000696</td><td>0.028706</td><td>0.003855</td><td>0.004733</td><td>0.083049</td><td>0.000243</td><td>0.357382</td></tr><tr><td>0.002789</td><td>0.001944</td><td>0.001001</td><td>0.005919</td><td>0.036392</td><td>0.006575</td><td>0.001252</td><td>0.000857</td><td>0.004097</td><td>0.002089</td><td>0.001905</td><td>0.001359</td><td>0.000355</td><td>0.001557</td><td>0.001256</td><td>0.0008</td><td>0.000366</td><td>0.004032</td><td>0.00285</td><td>0.00055</td><td>0.005498</td><td>0.000458</td><td>0.008818</td><td>0.000986</td><td>0.000428</td><td>0.001859</td><td>0.000347</td><td>0.937553</td></tr><tr><td>0.782575</td><td>0.000574</td><td>0.001254</td><td>0.004901</td><td>0.077349</td><td>0.011227</td><td>0.000948</td><td>0.001056</td><td>0.002414</td><td>0.001769</td><td>0.004483</td><td>0.000792</td><td>0.000413</td><td>0.003644</td><td>0.000383</td><td>0.2622</td><td>0.00054</td><td>0.002692</td><td>0.002925</td><td>0.000138</td><td>0.013707</td><td>0.006016</td><td>0.00861</td><td>0.001827</td><td>0.001122</td><td>0.001234</td><td>0.001286</td><td>0.056682</td></tr><tr><td>0.006976</td><td>0.005238</td><td>0.003202</td><td>0.004814</td><td>0.037277</td><td>0.00705</td><td>0.001896</td><td>0.002429</td><td>0.00885</td><td>0.001897</td><td>0.000849</td><td>0.003534</td><td>0.001159</td><td>0.018469</td><td>0.004139</td><td>0.00071</td><td>0.001095</td><td>0.018583</td><td>0.143564</td><td>0.001586</td><td>0.002214</td><td>0.001219</td><td>0.008574</td><td>0.001207</td><td>0.000828</td><td>0.003977</td><td>0.001915</td><td>0.720673</td></tr><tr><td>0.002046</td><td>0.003297</td><td>0.005249</td><td>0.010989</td><td>0.010588</td><td>0.001476</td><td>0.001876</td><td>0.001727</td><td>0.001145</td><td>0.00202</td><td>0.002242</td><td>0.00163</td><td>0.000541</td><td>0.002412</td><td>0.000968</td><td>0.000652</td><td>0.000268</td><td>0.002022</td><td>0.001264</td><td>0.000267</td><td>0.002688</td><td>0.000295</td><td>0.003894</td><td>0.000253</td><td>0.000235</td><td>0.001166</td><td>0.000909</td><td>0.960532</td></tr></tbody></table></div>"
      ],
      "text/plain": [
       "shape: (25, 28)\n",
       "┌────────────┬───────────┬──────────┬───────────┬───┬──────────┬──────────┬──────────┬──────────┐\n",
       "│ admiration ┆ amusement ┆ anger    ┆ annoyance ┆ … ┆ remorse  ┆ sadness  ┆ surprise ┆ neutral  │\n",
       "│ ---        ┆ ---       ┆ ---      ┆ ---       ┆   ┆ ---      ┆ ---      ┆ ---      ┆ ---      │\n",
       "│ f32        ┆ f32       ┆ f32      ┆ f32       ┆   ┆ f32      ┆ f32      ┆ f32      ┆ f32      │\n",
       "╞════════════╪═══════════╪══════════╪═══════════╪═══╪══════════╪══════════╪══════════╪══════════╡\n",
       "│ 0.00197    ┆ 0.001594  ┆ 0.001824 ┆ 0.007722  ┆ … ┆ 0.000457 ┆ 0.001115 ┆ 0.006525 ┆ 0.26142  │\n",
       "│ 0.002054   ┆ 0.002355  ┆ 0.000723 ┆ 0.004981  ┆ … ┆ 0.000416 ┆ 0.000825 ┆ 0.001471 ┆ 0.728671 │\n",
       "│ 0.514721   ┆ 0.005169  ┆ 0.001948 ┆ 0.008511  ┆ … ┆ 0.000334 ┆ 0.001619 ┆ 0.002806 ┆ 0.018327 │\n",
       "│ 0.002316   ┆ 0.00286   ┆ 0.001906 ┆ 0.010791  ┆ … ┆ 0.020937 ┆ 0.680417 ┆ 0.00191  ┆ 0.069102 │\n",
       "│ 0.037635   ┆ 0.004592  ┆ 0.002067 ┆ 0.012246  ┆ … ┆ 0.000577 ┆ 0.008555 ┆ 0.004123 ┆ 0.617211 │\n",
       "│ …          ┆ …         ┆ …        ┆ …         ┆ … ┆ …        ┆ …        ┆ …        ┆ …        │\n",
       "│ 0.001832   ┆ 0.000605  ┆ 0.008093 ┆ 0.034745  ┆ … ┆ 0.004733 ┆ 0.083049 ┆ 0.000243 ┆ 0.357382 │\n",
       "│ 0.002789   ┆ 0.001944  ┆ 0.001001 ┆ 0.005919  ┆ … ┆ 0.000428 ┆ 0.001859 ┆ 0.000347 ┆ 0.937553 │\n",
       "│ 0.782575   ┆ 0.000574  ┆ 0.001254 ┆ 0.004901  ┆ … ┆ 0.001122 ┆ 0.001234 ┆ 0.001286 ┆ 0.056682 │\n",
       "│ 0.006976   ┆ 0.005238  ┆ 0.003202 ┆ 0.004814  ┆ … ┆ 0.000828 ┆ 0.003977 ┆ 0.001915 ┆ 0.720673 │\n",
       "│ 0.002046   ┆ 0.003297  ┆ 0.005249 ┆ 0.010989  ┆ … ┆ 0.000235 ┆ 0.001166 ┆ 0.000909 ┆ 0.960532 │\n",
       "└────────────┴───────────┴──────────┴───────────┴───┴──────────┴──────────┴──────────┴──────────┘"
      ]
     },
     "execution_count": null,
     "metadata": {},
     "output_type": "execute_result"
    }
   ],
   "source": [
    "# create a dataframe \n",
    "df = pl.DataFrame()\n",
    "\n",
    "# for example, just to show the top result per input item\n",
    "for probas in model_outputs:\n",
    "    top_result_index = np.argmax(probas)\n",
    "    print(labels[top_result_index], \"with score:\", probas[top_result_index])\n",
    "    #sorted_indices = np.argsort(probas)[::-1]\n",
    "\n",
    "    # Get the corresponding values from labels and probas lists\n",
    "    #ranked_labels = [labels[i] for i in sorted_indices]\n",
    "    #ranked_probas = [probas[i] for i in sorted_indices]\n",
    "\n",
    "    # Create a dictionary from labels and probas\n",
    "    data = dict(zip(labels, probas))\n",
    "\n",
    "    # Add the data to the DataFrame as a new row\n",
    "    df = df.vstack(pl.DataFrame(data, orient=\"row\"))\n",
    "\n",
    "df"
   ]
  },
  {
   "cell_type": "code",
   "execution_count": null,
   "id": "6ac14750-c526-405a-8c64-fcd56f64bfc9",
   "metadata": {},
   "outputs": [
    {
     "data": {
      "text/html": [
       "<div><style>\n",
       ".dataframe > thead > tr,\n",
       ".dataframe > tbody > tr {\n",
       "  text-align: right;\n",
       "  white-space: pre-wrap;\n",
       "}\n",
       "</style>\n",
       "<small>shape: (25, 36)</small><table border=\"1\" class=\"dataframe\"><thead><tr><th>doc_id</th><th>date</th><th>year</th><th>month</th><th>day</th><th>hour</th><th>sentence</th><th>text</th><th>admiration</th><th>amusement</th><th>anger</th><th>annoyance</th><th>approval</th><th>caring</th><th>confusion</th><th>curiosity</th><th>desire</th><th>disappointment</th><th>disapproval</th><th>disgust</th><th>embarrassment</th><th>excitement</th><th>fear</th><th>gratitude</th><th>grief</th><th>joy</th><th>love</th><th>nervousness</th><th>optimism</th><th>pride</th><th>realization</th><th>relief</th><th>remorse</th><th>sadness</th><th>surprise</th><th>neutral</th></tr><tr><td>str</td><td>str</td><td>i64</td><td>i64</td><td>i64</td><td>i64</td><td>i64</td><td>str</td><td>f32</td><td>f32</td><td>f32</td><td>f32</td><td>f32</td><td>f32</td><td>f32</td><td>f32</td><td>f32</td><td>f32</td><td>f32</td><td>f32</td><td>f32</td><td>f32</td><td>f32</td><td>f32</td><td>f32</td><td>f32</td><td>f32</td><td>f32</td><td>f32</td><td>f32</td><td>f32</td><td>f32</td><td>f32</td><td>f32</td><td>f32</td><td>f32</td></tr></thead><tbody><tr><td>&quot;2024-12-02_16-13-13-235.txt&quot;</td><td>&quot;2024-12-02&quot;</td><td>2024</td><td>12</td><td>2</td><td>16</td><td>1</td><td>&quot;Why do you think that could be…</td><td>0.00197</td><td>0.001594</td><td>0.001824</td><td>0.007722</td><td>0.008916</td><td>0.002216</td><td>0.367905</td><td>0.622502</td><td>0.001434</td><td>0.00198</td><td>0.005644</td><td>0.001139</td><td>0.000597</td><td>0.001651</td><td>0.001646</td><td>0.001146</td><td>0.000255</td><td>0.000808</td><td>0.001471</td><td>0.00062</td><td>0.005584</td><td>0.000056</td><td>0.005514</td><td>0.000169</td><td>0.000457</td><td>0.001115</td><td>0.006525</td><td>0.26142</td></tr><tr><td>&quot;2024-12-02_16-13-13-235.txt&quot;</td><td>&quot;2024-12-02&quot;</td><td>2024</td><td>12</td><td>2</td><td>16</td><td>2</td><td>&quot;There are plenty of other reas…</td><td>0.002054</td><td>0.002355</td><td>0.000723</td><td>0.004981</td><td>0.082778</td><td>0.001035</td><td>0.202407</td><td>0.007913</td><td>0.001052</td><td>0.002273</td><td>0.012508</td><td>0.001054</td><td>0.00048</td><td>0.000992</td><td>0.000724</td><td>0.001804</td><td>0.000249</td><td>0.0014</td><td>0.00115</td><td>0.000503</td><td>0.009656</td><td>0.00022</td><td>0.058477</td><td>0.000501</td><td>0.000416</td><td>0.000825</td><td>0.001471</td><td>0.728671</td></tr><tr><td>&quot;2024-12-02_16-13-13-235.txt&quot;</td><td>&quot;2024-12-02&quot;</td><td>2024</td><td>12</td><td>2</td><td>16</td><td>3</td><td>&quot;Today has been such a great da…</td><td>0.514721</td><td>0.005169</td><td>0.001948</td><td>0.008511</td><td>0.084323</td><td>0.008455</td><td>0.001237</td><td>0.001136</td><td>0.006148</td><td>0.002621</td><td>0.00525</td><td>0.000772</td><td>0.000513</td><td>0.092634</td><td>0.000587</td><td>0.05875</td><td>0.001005</td><td>0.613829</td><td>0.011455</td><td>0.000974</td><td>0.012538</td><td>0.026969</td><td>0.008357</td><td>0.026981</td><td>0.000334</td><td>0.001619</td><td>0.002806</td><td>0.018327</td></tr><tr><td>&quot;2024-12-02_19-20-00-554.txt&quot;</td><td>&quot;2024-12-02&quot;</td><td>2024</td><td>12</td><td>2</td><td>19</td><td>1</td><td>&quot;I guess I&#x27;ve got to break the …</td><td>0.002316</td><td>0.00286</td><td>0.001906</td><td>0.010791</td><td>0.01419</td><td>0.056138</td><td>0.003089</td><td>0.004331</td><td>0.008424</td><td>0.129481</td><td>0.008022</td><td>0.002548</td><td>0.001987</td><td>0.003082</td><td>0.011483</td><td>0.001876</td><td>0.012272</td><td>0.006476</td><td>0.004132</td><td>0.03707</td><td>0.012924</td><td>0.000599</td><td>0.011076</td><td>0.006326</td><td>0.020937</td><td>0.680417</td><td>0.00191</td><td>0.069102</td></tr><tr><td>&quot;2024-12-02_19-20-00-554.txt&quot;</td><td>&quot;2024-12-02&quot;</td><td>2024</td><td>12</td><td>2</td><td>19</td><td>2</td><td>&quot;Somebody hit my truck on it&#x27;s …</td><td>0.037635</td><td>0.004592</td><td>0.002067</td><td>0.012246</td><td>0.035002</td><td>0.002152</td><td>0.00055</td><td>0.000456</td><td>0.003131</td><td>0.009742</td><td>0.002254</td><td>0.005116</td><td>0.002089</td><td>0.027842</td><td>0.007848</td><td>0.000692</td><td>0.001991</td><td>0.079268</td><td>0.007747</td><td>0.002629</td><td>0.002861</td><td>0.00878</td><td>0.01885</td><td>0.006296</td><td>0.000577</td><td>0.008555</td><td>0.004123</td><td>0.617211</td></tr><tr><td>&hellip;</td><td>&hellip;</td><td>&hellip;</td><td>&hellip;</td><td>&hellip;</td><td>&hellip;</td><td>&hellip;</td><td>&hellip;</td><td>&hellip;</td><td>&hellip;</td><td>&hellip;</td><td>&hellip;</td><td>&hellip;</td><td>&hellip;</td><td>&hellip;</td><td>&hellip;</td><td>&hellip;</td><td>&hellip;</td><td>&hellip;</td><td>&hellip;</td><td>&hellip;</td><td>&hellip;</td><td>&hellip;</td><td>&hellip;</td><td>&hellip;</td><td>&hellip;</td><td>&hellip;</td><td>&hellip;</td><td>&hellip;</td><td>&hellip;</td><td>&hellip;</td><td>&hellip;</td><td>&hellip;</td><td>&hellip;</td><td>&hellip;</td><td>&hellip;</td></tr><tr><td>&quot;2024-12-04_11-23-48-808.txt&quot;</td><td>&quot;2024-12-04&quot;</td><td>2024</td><td>12</td><td>4</td><td>11</td><td>3</td><td>&quot;I have six cats and all of the…</td><td>0.001832</td><td>0.000605</td><td>0.008093</td><td>0.034745</td><td>0.276817</td><td>0.039473</td><td>0.003499</td><td>0.001454</td><td>0.005761</td><td>0.036792</td><td>0.086785</td><td>0.005253</td><td>0.001289</td><td>0.000467</td><td>0.002077</td><td>0.000717</td><td>0.002336</td><td>0.002802</td><td>0.02802</td><td>0.002852</td><td>0.003881</td><td>0.000696</td><td>0.028706</td><td>0.003855</td><td>0.004733</td><td>0.083049</td><td>0.000243</td><td>0.357382</td></tr><tr><td>&quot;2024-12-04_11-23-48-808.txt&quot;</td><td>&quot;2024-12-04&quot;</td><td>2024</td><td>12</td><td>4</td><td>11</td><td>4</td><td>&quot;I give them tuna every night w…</td><td>0.002789</td><td>0.001944</td><td>0.001001</td><td>0.005919</td><td>0.036392</td><td>0.006575</td><td>0.001252</td><td>0.000857</td><td>0.004097</td><td>0.002089</td><td>0.001905</td><td>0.001359</td><td>0.000355</td><td>0.001557</td><td>0.001256</td><td>0.0008</td><td>0.000366</td><td>0.004032</td><td>0.00285</td><td>0.00055</td><td>0.005498</td><td>0.000458</td><td>0.008818</td><td>0.000986</td><td>0.000428</td><td>0.001859</td><td>0.000347</td><td>0.937553</td></tr><tr><td>&quot;2024-12-04_11-23-48-808.txt&quot;</td><td>&quot;2024-12-04&quot;</td><td>2024</td><td>12</td><td>4</td><td>11</td><td>5</td><td>&quot;I then tell them how much I ap…</td><td>0.782575</td><td>0.000574</td><td>0.001254</td><td>0.004901</td><td>0.077349</td><td>0.011227</td><td>0.000948</td><td>0.001056</td><td>0.002414</td><td>0.001769</td><td>0.004483</td><td>0.000792</td><td>0.000413</td><td>0.003644</td><td>0.000383</td><td>0.2622</td><td>0.00054</td><td>0.002692</td><td>0.002925</td><td>0.000138</td><td>0.013707</td><td>0.006016</td><td>0.00861</td><td>0.001827</td><td>0.001122</td><td>0.001234</td><td>0.001286</td><td>0.056682</td></tr><tr><td>&quot;2024-12-04_11-23-48-808.txt&quot;</td><td>&quot;2024-12-04&quot;</td><td>2024</td><td>12</td><td>4</td><td>11</td><td>6</td><td>&quot;I first pet each of their head…</td><td>0.006976</td><td>0.005238</td><td>0.003202</td><td>0.004814</td><td>0.037277</td><td>0.00705</td><td>0.001896</td><td>0.002429</td><td>0.00885</td><td>0.001897</td><td>0.000849</td><td>0.003534</td><td>0.001159</td><td>0.018469</td><td>0.004139</td><td>0.00071</td><td>0.001095</td><td>0.018583</td><td>0.143564</td><td>0.001586</td><td>0.002214</td><td>0.001219</td><td>0.008574</td><td>0.001207</td><td>0.000828</td><td>0.003977</td><td>0.001915</td><td>0.720673</td></tr><tr><td>&quot;2024-12-04_11-23-48-808.txt&quot;</td><td>&quot;2024-12-04&quot;</td><td>2024</td><td>12</td><td>4</td><td>11</td><td>7</td><td>&quot;I then give them a fist-bump.&quot;</td><td>0.002046</td><td>0.003297</td><td>0.005249</td><td>0.010989</td><td>0.010588</td><td>0.001476</td><td>0.001876</td><td>0.001727</td><td>0.001145</td><td>0.00202</td><td>0.002242</td><td>0.00163</td><td>0.000541</td><td>0.002412</td><td>0.000968</td><td>0.000652</td><td>0.000268</td><td>0.002022</td><td>0.001264</td><td>0.000267</td><td>0.002688</td><td>0.000295</td><td>0.003894</td><td>0.000253</td><td>0.000235</td><td>0.001166</td><td>0.000909</td><td>0.960532</td></tr></tbody></table></div>"
      ],
      "text/plain": [
       "shape: (25, 36)\n",
       "┌──────────────────────┬────────────┬──────┬───────┬───┬──────────┬──────────┬──────────┬──────────┐\n",
       "│ doc_id               ┆ date       ┆ year ┆ month ┆ … ┆ remorse  ┆ sadness  ┆ surprise ┆ neutral  │\n",
       "│ ---                  ┆ ---        ┆ ---  ┆ ---   ┆   ┆ ---      ┆ ---      ┆ ---      ┆ ---      │\n",
       "│ str                  ┆ str        ┆ i64  ┆ i64   ┆   ┆ f32      ┆ f32      ┆ f32      ┆ f32      │\n",
       "╞══════════════════════╪════════════╪══════╪═══════╪═══╪══════════╪══════════╪══════════╪══════════╡\n",
       "│ 2024-12-02_16-13-13- ┆ 2024-12-02 ┆ 2024 ┆ 12    ┆ … ┆ 0.000457 ┆ 0.001115 ┆ 0.006525 ┆ 0.26142  │\n",
       "│ 235.txt              ┆            ┆      ┆       ┆   ┆          ┆          ┆          ┆          │\n",
       "│ 2024-12-02_16-13-13- ┆ 2024-12-02 ┆ 2024 ┆ 12    ┆ … ┆ 0.000416 ┆ 0.000825 ┆ 0.001471 ┆ 0.728671 │\n",
       "│ 235.txt              ┆            ┆      ┆       ┆   ┆          ┆          ┆          ┆          │\n",
       "│ 2024-12-02_16-13-13- ┆ 2024-12-02 ┆ 2024 ┆ 12    ┆ … ┆ 0.000334 ┆ 0.001619 ┆ 0.002806 ┆ 0.018327 │\n",
       "│ 235.txt              ┆            ┆      ┆       ┆   ┆          ┆          ┆          ┆          │\n",
       "│ 2024-12-02_19-20-00- ┆ 2024-12-02 ┆ 2024 ┆ 12    ┆ … ┆ 0.020937 ┆ 0.680417 ┆ 0.00191  ┆ 0.069102 │\n",
       "│ 554.txt              ┆            ┆      ┆       ┆   ┆          ┆          ┆          ┆          │\n",
       "│ 2024-12-02_19-20-00- ┆ 2024-12-02 ┆ 2024 ┆ 12    ┆ … ┆ 0.000577 ┆ 0.008555 ┆ 0.004123 ┆ 0.617211 │\n",
       "│ 554.txt              ┆            ┆      ┆       ┆   ┆          ┆          ┆          ┆          │\n",
       "│ …                    ┆ …          ┆ …    ┆ …     ┆ … ┆ …        ┆ …        ┆ …        ┆ …        │\n",
       "│ 2024-12-04_11-23-48- ┆ 2024-12-04 ┆ 2024 ┆ 12    ┆ … ┆ 0.004733 ┆ 0.083049 ┆ 0.000243 ┆ 0.357382 │\n",
       "│ 808.txt              ┆            ┆      ┆       ┆   ┆          ┆          ┆          ┆          │\n",
       "│ 2024-12-04_11-23-48- ┆ 2024-12-04 ┆ 2024 ┆ 12    ┆ … ┆ 0.000428 ┆ 0.001859 ┆ 0.000347 ┆ 0.937553 │\n",
       "│ 808.txt              ┆            ┆      ┆       ┆   ┆          ┆          ┆          ┆          │\n",
       "│ 2024-12-04_11-23-48- ┆ 2024-12-04 ┆ 2024 ┆ 12    ┆ … ┆ 0.001122 ┆ 0.001234 ┆ 0.001286 ┆ 0.056682 │\n",
       "│ 808.txt              ┆            ┆      ┆       ┆   ┆          ┆          ┆          ┆          │\n",
       "│ 2024-12-04_11-23-48- ┆ 2024-12-04 ┆ 2024 ┆ 12    ┆ … ┆ 0.000828 ┆ 0.003977 ┆ 0.001915 ┆ 0.720673 │\n",
       "│ 808.txt              ┆            ┆      ┆       ┆   ┆          ┆          ┆          ┆          │\n",
       "│ 2024-12-04_11-23-48- ┆ 2024-12-04 ┆ 2024 ┆ 12    ┆ … ┆ 0.000235 ┆ 0.001166 ┆ 0.000909 ┆ 0.960532 │\n",
       "│ 808.txt              ┆            ┆      ┆       ┆   ┆          ┆          ┆          ┆          │\n",
       "└──────────────────────┴────────────┴──────┴───────┴───┴──────────┴──────────┴──────────┴──────────┘"
      ]
     },
     "execution_count": null,
     "metadata": {},
     "output_type": "execute_result"
    }
   ],
   "source": [
    "df_combined = pl.concat([journal_data, df], how=\"horizontal\")\n",
    "\n",
    "df_combined"
   ]
  },
  {
   "cell_type": "code",
   "execution_count": null,
   "id": "d534f53a-fc68-4f4e-ae3b-3671f2c05137",
   "metadata": {},
   "outputs": [],
   "source": [
    "df_combined.write_csv('journal_emotions.csv', include_bom=False, separator='|')"
   ]
  }
 ],
 "metadata": {
  "kernelspec": {
   "display_name": "journal_parser",
   "language": "python",
   "name": "journal_parser"
  }
 },
 "nbformat": 4,
 "nbformat_minor": 5
}
