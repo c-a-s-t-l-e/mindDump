{
 "cells": [
  {
   "cell_type": "code",
   "execution_count": null,
   "id": "74af82c1-3c0a-4b99-931b-c02fd89df79c",
   "metadata": {},
   "outputs": [],
   "source": [
    "import os\n",
    "import pandas as pd\n",
    "import re\n",
    "from datetime import datetime"
   ]
  },
  {
   "cell_type": "code",
   "execution_count": null,
   "id": "8e85436b-a5dd-4373-9b98-9e28e248936b",
   "metadata": {},
   "outputs": [],
   "source": [
    "def split_into_sentences(text):\n",
    "    # First split by traditional sentence endings\n",
    "    text = re.sub(r'([.!?])\\s+', r'\\1|', text)\n",
    "    # Split by multiple newlines or excessive spacing\n",
    "    text = re.sub(r'\\n{2,}', '|', text)\n",
    "    text = re.sub(r'\\s{3,}', '|', text)\n",
    "    # Split the text and clean each sentence\n",
    "    sentences = [s.strip() for s in text.split('|') if s.strip()]\n",
    "    return sentences"
   ]
  },
  {
   "cell_type": "code",
   "execution_count": null,
   "id": "554e3aa2-a513-4c71-b53b-cc8a97193fbd",
   "metadata": {},
   "outputs": [],
   "source": [
    "def process_journal_files(folder_path):\n",
    "    data = []\n",
    "    \n",
    "    # Get all txt files in the folder\n",
    "    txt_files = [f for f in os.listdir(folder_path) if f.endswith('.txt')]\n",
    "    \n",
    "    for filename in txt_files:\n",
    "        # Parse datetime from filename\n",
    "        datetime_str = filename.split('.')[0]\n",
    "        dt = datetime.strptime(datetime_str, '%Y-%m-%d_%H-%M-%S-%f')\n",
    "        \n",
    "        # Read file content\n",
    "        with open(os.path.join(folder_path, filename), 'r', encoding='utf-8') as file:\n",
    "            content = file.read()\n",
    "        \n",
    "        # Split into sentences\n",
    "        sentences = split_into_sentences(content)\n",
    "        \n",
    "        # Create entries for each sentence\n",
    "        for idx, sentence in enumerate(sentences, 1):\n",
    "            data.append({\n",
    "                'doc_id': filename,\n",
    "                'date': dt.date(),\n",
    "                'year': dt.year,\n",
    "                'month': dt.month,\n",
    "                'day': dt.day,\n",
    "                'hour': dt.hour,\n",
    "                'sentence': idx,\n",
    "                'text': sentence\n",
    "            })\n",
    "    \n",
    "    # Create DataFrame and save to CSV\n",
    "    df = pd.DataFrame(data)\n",
    "    df.to_csv('journal_entries.csv', index=False, sep='|')\n",
    "    print(f\"Processed {len(txt_files)} files and created {len(data)} sentence entries.\")"
   ]
  },
  {
   "cell_type": "code",
   "execution_count": null,
   "id": "569bdbb6-173a-42b3-a923-40b276a00c76",
   "metadata": {},
   "outputs": [
    {
     "name": "stdout",
     "output_type": "stream",
     "text": [
      "Processed 5 files and created 25 sentence entries.\n"
     ]
    }
   ],
   "source": [
    "folder_path = \"Phone_Journal\"\n",
    "process_journal_files(folder_path)"
   ]
  }
 ],
 "metadata": {
  "kernelspec": {
   "display_name": "python3",
   "language": "python",
   "name": "python3"
  }
 },
 "nbformat": 4,
 "nbformat_minor": 5
}
